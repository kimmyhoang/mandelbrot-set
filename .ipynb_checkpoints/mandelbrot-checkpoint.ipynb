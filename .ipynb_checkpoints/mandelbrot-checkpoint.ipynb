{
 "cells": [
  {
   "cell_type": "code",
   "execution_count": 30,
   "id": "ea541780-501a-4bf6-874d-5763142b9e78",
   "metadata": {},
   "outputs": [],
   "source": [
    "import numpy as np\n",
    "import matplotlib.pyplot as plt"
   ]
  },
  {
   "cell_type": "code",
   "execution_count": 37,
   "id": "770cf869-84f8-4863-8c52-88e30e1ab5a5",
   "metadata": {},
   "outputs": [],
   "source": [
    "def mandelbrot(realNum, imagNum, max_iter):\n",
    "    c = complex(realNum, imagNum)\n",
    "    z = 0.0j\n",
    "    \n",
    "    for i in range(max_iter):\n",
    "        z = z*z + c\n",
    "        if(z.real*z.real + z.imag*z.imag) >= 4:\n",
    "            return i\n",
    "        \n",
    "    return max_iter"
   ]
  },
  {
   "cell_type": "code",
   "execution_count": 39,
   "id": "255b4c50-6e3a-44b9-a798-1c6d26e1a262",
   "metadata": {},
   "outputs": [
    {
     "ename": "NameError",
     "evalue": "name 'Re' is not defined",
     "output_type": "error",
     "traceback": [
      "\u001b[1;31m---------------------------------------------------------------------------\u001b[0m",
      "\u001b[1;31mNameError\u001b[0m                                 Traceback (most recent call last)",
      "Input \u001b[1;32mIn [39]\u001b[0m, in \u001b[0;36m<cell line: 5>\u001b[1;34m()\u001b[0m\n\u001b[0;32m      5\u001b[0m \u001b[38;5;28;01mfor\u001b[39;00m row_index, real \u001b[38;5;129;01min\u001b[39;00m \u001b[38;5;28menumerate\u001b[39m(np\u001b[38;5;241m.\u001b[39mlinspace(\u001b[38;5;241m-\u001b[39m\u001b[38;5;241m2\u001b[39m, \u001b[38;5;241m1\u001b[39m, num\u001b[38;5;241m=\u001b[39mrows)):\n\u001b[0;32m      6\u001b[0m     \u001b[38;5;28;01mfor\u001b[39;00m column_index, imag \u001b[38;5;129;01min\u001b[39;00m \u001b[38;5;28menumerate\u001b[39m(np\u001b[38;5;241m.\u001b[39mlinspace(\u001b[38;5;241m-\u001b[39m\u001b[38;5;241m1\u001b[39m,\u001b[38;5;241m1\u001b[39m, num\u001b[38;5;241m=\u001b[39mcolumns)):\n\u001b[1;32m----> 7\u001b[0m         result[row_index, column_index] \u001b[38;5;241m=\u001b[39m mandelbrot(\u001b[43mRe\u001b[49m, Im, \u001b[38;5;241m100\u001b[39m)\n\u001b[0;32m      9\u001b[0m plt\u001b[38;5;241m.\u001b[39mfigure(dpi\u001b[38;5;241m=\u001b[39m\u001b[38;5;241m100\u001b[39m)\n\u001b[0;32m     10\u001b[0m plt\u001b[38;5;241m.\u001b[39mimshow(result\u001b[38;5;241m.\u001b[39mT, cmap\u001b[38;5;241m=\u001b[39m\u001b[38;5;124m'\u001b[39m\u001b[38;5;124mhot\u001b[39m\u001b[38;5;124m'\u001b[39m, interpolation\u001b[38;5;241m=\u001b[39m\u001b[38;5;124m'\u001b[39m\u001b[38;5;124mbilinear\u001b[39m\u001b[38;5;124m'\u001b[39m,extent\u001b[38;5;241m=\u001b[39m[\u001b[38;5;241m-\u001b[39m\u001b[38;5;241m2\u001b[39m, \u001b[38;5;241m1\u001b[39m, \u001b[38;5;241m-\u001b[39m\u001b[38;5;241m1\u001b[39m, \u001b[38;5;241m1\u001b[39m])\n",
      "\u001b[1;31mNameError\u001b[0m: name 'Re' is not defined"
     ]
    }
   ],
   "source": [
    "columns = 2000\n",
    "rows = 2000\n",
    "\n",
    "result = np.zeros([rows, columns])\n",
    "for row_index, realNum in enumerate(np.linspace(-2, 1, num=rows)):\n",
    "    for column_index, imagNum in enumerate(np.linspace(-1,1, num=columns)):\n",
    "        result[row_index, column_index] = mandelbrot(realNum, imagNum, 100)\n",
    "    \n",
    "plt.figure(dpi=100)\n",
    "plt.imshow(result.T, cmap='hot', interpolation='bilinear',extent=[-2, 1, -1, 1])\n",
    "plt.xlabel('Re')\n",
    "plt.ylabel('Im')\n",
    "plt.show()    "
   ]
  },
  {
   "cell_type": "code",
   "execution_count": null,
   "id": "a2a50ac0-d8a1-4268-be48-4a9ef980af86",
   "metadata": {},
   "outputs": [],
   "source": []
  }
 ],
 "metadata": {
  "kernelspec": {
   "display_name": "Python 3 (ipykernel)",
   "language": "python",
   "name": "python3"
  },
  "language_info": {
   "codemirror_mode": {
    "name": "ipython",
    "version": 3
   },
   "file_extension": ".py",
   "mimetype": "text/x-python",
   "name": "python",
   "nbconvert_exporter": "python",
   "pygments_lexer": "ipython3",
   "version": "3.9.12"
  }
 },
 "nbformat": 4,
 "nbformat_minor": 5
}
